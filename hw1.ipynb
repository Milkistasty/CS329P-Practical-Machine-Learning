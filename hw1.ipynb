{
  "nbformat": 4,
  "nbformat_minor": 0,
  "metadata": {
    "kernelspec": {
      "display_name": "Python 3 (ipykernel)",
      "language": "python",
      "name": "python3"
    },
    "language_info": {
      "codemirror_mode": {
        "name": "ipython",
        "version": 3
      },
      "file_extension": ".py",
      "mimetype": "text/x-python",
      "name": "python",
      "nbconvert_exporter": "python",
      "pygments_lexer": "ipython3",
      "version": "3.8.10"
    },
    "toc": {
      "base_numbering": 1,
      "nav_menu": {},
      "number_sections": true,
      "sideBar": true,
      "skip_h1_title": true,
      "title_cell": "Table of Contents",
      "title_sidebar": "Contents",
      "toc_cell": false,
      "toc_position": {},
      "toc_section_display": true,
      "toc_window_display": false
    },
    "colab": {
      "name": "hw1_v2.ipynb",
      "provenance": [],
      "collapsed_sections": []
    }
  },
  "cells": [
    {
      "cell_type": "markdown",
      "metadata": {
        "id": "jRbuIIjtMMFj"
      },
      "source": [
        "# Homework 1 for CS 329P\n",
        "\n",
        "**Authors**: YOUR_NAMES\n",
        "\n",
        "**Emails**: YOUR_IDS@stanford.edu\n",
        "\n",
        "**Submission.** Please insert your names and emails above, save your code in this notebook, and explain what you are doing along with your findings in text cells. You can think of it as a technical report with code. Before submission, please use `Kernel -> Restart & Run All` in the Jupyter menu to verify your code is runnable and save all outputs. Afterwards, you can either upload your raw notebook (`hw1.ipynb`) or an exported PDF version to the `Homework 1` assignment in Canvas. \n",
        "\n",
        "\n",
        "In this homework, we will train a house sales price predictor on the data we scraped previously. The purpose of this homework is to let you practice different techniques that you can use to preprocess raw data. Your job is to obtain the best root mean squared logarithmic error (RMSLE) on the test dataset. To make your job easy, we provide sample code to train a model to report RMSLE and a list of ideas you can explore.\n",
        "\n",
        "**Note**: You can use either local runtimes to complete this assignment, or a hosted runtime (with GPU) on Colab. The second option generally runs faster. If using a local runtime, make sure that your Python version is less than 3.9 but at least 3.6, or you may have issues installing Autogluon. If using a runtime hosted on Colab, you can use the File Explorer pane on the left to upload the `house_sales.ftr` file. Make sure to wait until the file finishes uploading before running the next code block.\n",
        "\n",
        "Additionally, if using a local runtime, please refer to the [AG document](https://auto.gluon.ai/stable/index.html#installation) for info on how to install autogluon. \n",
        "\n",
        "## Prepare Data \n",
        "\n",
        "Let's first read in the dataset we used in our [Exploratory Data Analysis (EDA)](https://c.d2l.ai/stanford-cs329p/_static/notebooks/cs329p_notebook_eda.slides.html). Note that we use the [`feather` format](https://arrow.apache.org/docs/python/feather.html), which is faster to read than CSV but uses more disk space. The file `home_sales.ftr` can be downloaded from the Assignments folder in Canvas.\n",
        "\n",
        "Just for your information, it is generated with:\n",
        "\n",
        "```python\n",
        "data = pd.read_csv('house_sales.zip', dtype='unicode')\n",
        "data.to_feather('house_sales.ftr')\n",
        "```\n",
        "\n",
        "The following code needs at least 2GB memory. If using a local runtime, please make sure your machine has enough memory. "
      ]
    },
    {
      "cell_type": "code",
      "metadata": {
        "ExecuteTime": {
          "end_time": "2021-09-22T21:19:22.818413Z",
          "start_time": "2021-09-22T21:19:18.899437Z"
        },
        "id": "YpsTjkMaMMFk"
      },
      "source": [
        "# Run the following line once to install. You may need to restart your runtime afterwards:\n",
        "!pip3 install numpy pandas autogluon mxnet --upgrade\n",
        "import pandas as pd\n",
        "import numpy as np\n",
        "\n",
        "data = pd.read_feather('house_sales.ftr')"
      ],
      "execution_count": null,
      "outputs": []
    },
    {
      "cell_type": "code",
      "metadata": {
        "id": "mi5vrBMMKn-X"
      },
      "source": [
        "import scipy\n",
        "import numpy as np\n",
        "scipy.__version__, np.__version__"
      ],
      "execution_count": null,
      "outputs": []
    },
    {
      "cell_type": "markdown",
      "metadata": {
        "id": "wlvsGd0AMMFl"
      },
      "source": [
        "We select a few common columns to make our training fast. You need to select more columns to make your model more accurate. "
      ]
    },
    {
      "cell_type": "code",
      "metadata": {
        "ExecuteTime": {
          "end_time": "2021-09-22T21:19:22.837345Z",
          "start_time": "2021-09-22T21:19:22.821365Z"
        },
        "id": "vMIZGUkiMMFl"
      },
      "source": [
        "df = data[['Sold Price', 'Sold On', 'Type', 'Year built', 'Bedrooms', 'Bathrooms']].copy()\n",
        "# uncomment the below line to save memory\n",
        "# del data"
      ],
      "execution_count": null,
      "outputs": []
    },
    {
      "cell_type": "markdown",
      "metadata": {
        "id": "M025p8ZOMMFl"
      },
      "source": [
        "We copy the code from EDA to convert `Sold Price` to numerical values, which is our prediction target. We also remove examples whose prices are too high or too low."
      ]
    },
    {
      "cell_type": "code",
      "metadata": {
        "ExecuteTime": {
          "end_time": "2021-09-22T21:19:23.275937Z",
          "start_time": "2021-09-22T21:19:22.838990Z"
        },
        "id": "QEtKW8aZMMFl"
      },
      "source": [
        "c = 'Sold Price'\n",
        "if c in df.select_dtypes('object').columns:\n",
        "    df.loc[:,c] = np.log10(\n",
        "            pd.to_numeric(df[c].replace(r'[$,-]', '', regex=True)) + 1)\n",
        "df = df[(df['Sold Price'] >= 4 ) & (df['Sold Price'] <= 8 )]"
      ],
      "execution_count": null,
      "outputs": []
    },
    {
      "cell_type": "markdown",
      "metadata": {
        "id": "GwS6XYWAMMFm"
      },
      "source": [
        "We use the house sales between 2021-2-15 and 2021-3-1 as our test data. You can use any example before 2021-2-15, but not after. In other words, we pretend we are launching our model on 2021-2-15 and testing it for 2 weeks. Here we only use sales in 2021 for fast training, but you can use more to improve accuracy. "
      ]
    },
    {
      "cell_type": "code",
      "metadata": {
        "ExecuteTime": {
          "end_time": "2021-09-22T21:19:57.603573Z",
          "start_time": "2021-09-22T21:19:57.487636Z"
        },
        "id": "8HA0DTInMMFm"
      },
      "source": [
        "test_start, test_end = pd.Timestamp(2021, 2, 15), pd.Timestamp(2021, 3, 1)\n",
        "train_start = pd.Timestamp(2021, 1, 1)\n",
        "df['Sold On'] = pd.to_datetime(df['Sold On'], errors='coerce')\n",
        "train = df[(df['Sold On'] >= train_start) & (df['Sold On'] < test_start)]\n",
        "test = df[(df['Sold On'] >= test_start) & (df['Sold On'] < test_end)]\n",
        "train.shape, test.shape"
      ],
      "execution_count": null,
      "outputs": []
    },
    {
      "cell_type": "markdown",
      "metadata": {
        "id": "AH-Gx95nMMFn"
      },
      "source": [
        "Define our evaluation metric. "
      ]
    },
    {
      "cell_type": "code",
      "metadata": {
        "ExecuteTime": {
          "end_time": "2021-09-22T21:19:58.917830Z",
          "start_time": "2021-09-22T21:19:58.915173Z"
        },
        "id": "FP0f3vqNMMFn"
      },
      "source": [
        "def rmsle(y_hat, y):\n",
        "    # we already used log prices before, so we only need to compute RMSE\n",
        "    return sum((y_hat - y)**2 / len(y))**0.5"
      ],
      "execution_count": null,
      "outputs": []
    },
    {
      "cell_type": "markdown",
      "metadata": {
        "id": "fXFkQrUUMMFn"
      },
      "source": [
        "## AutoGluon Baseline\n",
        "\n",
        "We provide a baseline model trained by AutoGluon (AG). AG is an automl tool that performs automatic feature engineering, model selections, and ensemble. You are welcome to use any model and tool in achieving the best results possible in your homework. However, we recommend that you reuse the following training code so that you can focus on data preprocessing."
      ]
    },
    {
      "cell_type": "code",
      "metadata": {
        "ExecuteTime": {
          "end_time": "2021-09-22T21:22:15.382886Z",
          "start_time": "2021-09-22T21:20:10.070746Z"
        },
        "scrolled": true,
        "id": "JPc8RXxJMMFn"
      },
      "source": [
        "from autogluon.tabular import TabularPredictor\n",
        "    \n",
        "label = 'Sold Price'    \n",
        "predictor = TabularPredictor(label=label).fit(train)"
      ],
      "execution_count": null,
      "outputs": []
    },
    {
      "cell_type": "markdown",
      "metadata": {
        "id": "LpeILz5WMMFn"
      },
      "source": [
        "Test the performance of each model. "
      ]
    },
    {
      "cell_type": "code",
      "metadata": {
        "ExecuteTime": {
          "end_time": "2021-09-22T21:22:24.104096Z",
          "start_time": "2021-09-22T21:22:21.420090Z"
        },
        "id": "1as6hzTCMMFn"
      },
      "source": [
        "predictor.leaderboard(test, silent=True)"
      ],
      "execution_count": null,
      "outputs": []
    },
    {
      "cell_type": "markdown",
      "metadata": {
        "id": "c1c0cM3QMMFo"
      },
      "source": [
        "Next, we compute the importance of each feature, along with several other metrics. It loooks like the `Sold On` feature is not very useful, likely because the houses in the test data were all sold late. You can choose to either remove such a feature, or find a way to extract a more useful presentation from it."
      ]
    },
    {
      "cell_type": "code",
      "metadata": {
        "ExecuteTime": {
          "end_time": "2021-09-22T21:23:18.631587Z",
          "start_time": "2021-09-22T21:23:12.732269Z"
        },
        "id": "RM9BVHmeMMFo"
      },
      "source": [
        "predictor.feature_importance(test)"
      ],
      "execution_count": null,
      "outputs": []
    },
    {
      "cell_type": "markdown",
      "metadata": {
        "id": "DiL2aZB9MMFo"
      },
      "source": [
        "Finally, let's predict and evaluate the RMSLE."
      ]
    },
    {
      "cell_type": "code",
      "metadata": {
        "ExecuteTime": {
          "end_time": "2021-09-21T18:51:18.826116Z",
          "start_time": "2021-09-21T18:51:16.913391Z"
        },
        "id": "budOt2bGMMFo"
      },
      "source": [
        "preds = predictor.predict(test.drop(columns=[label]))\n",
        "rmsle(preds, test[label])"
      ],
      "execution_count": null,
      "outputs": []
    },
    {
      "cell_type": "markdown",
      "metadata": {
        "ExecuteTime": {
          "end_time": "2021-09-21T17:10:23.648923Z",
          "start_time": "2021-09-21T17:10:16.162130Z"
        },
        "id": "abfuZLOWMMFo"
      },
      "source": [
        "## Your Solution\n",
        "\n",
        "Please include your solution in the following section. (You are welcome to edit and delete code in previous sections).\n",
        "\n",
        "Your goal is to train a model using the features in the original dataset that minimizes the RMSLE on the validation dataset. While the naïve model achieves an RMSLE of ~0.3, it is possible to achieve an RMSLE of less than 0.08 on the same dataset.\n",
        "\n",
        "Here is a list of ideas you could explore:\n",
        "\n",
        "- More features: We only selected a small set of columns to use in training. You can add more, especially the ones we examined in EDA.\n",
        "- Data type conversion: Most data columns are strings; you may need to convert them into numerical values.\n",
        "- Data cleaning: There are NAN and outliers sprinkled throughout the dataset. You should find ways to selectively filter and remove them.\n",
        "- More examples: We only included sales made in 2021; there is a large number of examples in previous years that you can also include."
      ]
    },
    {
      "cell_type": "code",
      "metadata": {
        "id": "Mvs8Kh0dDJRZ"
      },
      "source": [
        "# YOUR SOLUTION HERE"
      ],
      "execution_count": null,
      "outputs": []
    },
    {
      "cell_type": "markdown",
      "metadata": {
        "id": "n3yz5bBSMMFp"
      },
      "source": [
        "FIN"
      ]
    }
  ]
}